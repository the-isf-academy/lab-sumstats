{
 "cells": [
  {
   "cell_type": "markdown",
   "metadata": {},
   "source": [
    "# Lab: Summary Statistics"
   ]
  },
  {
   "cell_type": "markdown",
   "metadata": {},
   "source": [
    "Now that you are confident in your algorithms, try to translate them into Python code.\n"
   ]
  },
  {
   "cell_type": "markdown",
   "metadata": {},
   "source": [
    "## Mean"
   ]
  },
  {
   "cell_type": "markdown",
   "metadata": {},
   "source": [
    "💻 **Fill in `mean_test_data` with a list of numbers.**"
   ]
  },
  {
   "cell_type": "code",
   "execution_count": null,
   "metadata": {
    "ExecuteTime": {
     "end_time": "2021-03-03T03:41:38.325371Z",
     "start_time": "2021-03-03T03:41:38.321598Z"
    }
   },
   "outputs": [],
   "source": [
    "mean_test_data = "
   ]
  },
  {
   "cell_type": "markdown",
   "metadata": {},
   "source": [
    "💻 **Write the function `calculate_mean()`.**\n",
    "\n",
    "Parameter: a list of numbers \n",
    "\n",
    "Return value: the mean "
   ]
  },
  {
   "cell_type": "code",
   "execution_count": 10,
   "metadata": {},
   "outputs": [],
   "source": [
    "# 💻 Write the calculate_mean() function here\n"
   ]
  },
  {
   "cell_type": "markdown",
   "metadata": {},
   "source": [
    "💻 **Test your function below.**\n"
   ]
  },
  {
   "cell_type": "code",
   "execution_count": null,
   "metadata": {},
   "outputs": [],
   "source": [
    "# 💻 Test your calculate_mean() function "
   ]
  },
  {
   "cell_type": "markdown",
   "metadata": {},
   "source": [
    "## Median"
   ]
  },
  {
   "cell_type": "markdown",
   "metadata": {},
   "source": [
    "💻 **Fill in `median_test_data_odd` and `median_test_data_even`, each with a list of numbers.**"
   ]
  },
  {
   "cell_type": "code",
   "execution_count": null,
   "metadata": {
    "ExecuteTime": {
     "end_time": "2021-03-03T03:41:38.325371Z",
     "start_time": "2021-03-03T03:41:38.321598Z"
    }
   },
   "outputs": [],
   "source": [
    "median_test_data_odd = \n",
    "median_test_data_even ="
   ]
  },
  {
   "cell_type": "markdown",
   "metadata": {},
   "source": [
    "### Sorting the data\n",
    "Often, we will want our data to be sorted. This will help us search through the data and will also help us calculate statistics like the median.\n",
    "\n",
    "We can easily accomplish this with the `sorted()` function:\n",
    "```python\n",
    "odd_data = sorted(sleep_data)\n",
    "even_data = sorted(even_data)\n",
    "```\n",
    "\n",
    "💻 **Sort the`median_test_data_odd`list and the `median_test_data_even` list below.**"
   ]
  },
  {
   "cell_type": "code",
   "execution_count": 7,
   "metadata": {
    "ExecuteTime": {
     "end_time": "2021-03-03T03:33:50.376976Z",
     "start_time": "2021-03-03T03:33:50.362694Z"
    }
   },
   "outputs": [],
   "source": [
    "# 💻 Sort each list below"
   ]
  },
  {
   "cell_type": "markdown",
   "metadata": {},
   "source": [
    " ### The median"
   ]
  },
  {
   "cell_type": "markdown",
   "metadata": {},
   "source": [
    "Next, we'll calculate the median of our data. As a reminder, the median is the middle number in a sorted, ascending or descending, list of numbers.\n",
    "\n",
    "*Tip: consider the the possible cases of our data. How do you calculate the median of an even amount of data? Of an odd amount of data?*"
   ]
  },
  {
   "cell_type": "markdown",
   "metadata": {},
   "source": [
    "💻 Write the median function and any helper functions you'll need:"
   ]
  },
  {
   "cell_type": "code",
   "execution_count": 2,
   "metadata": {
    "ExecuteTime": {
     "end_time": "2021-02-23T07:25:41.199057Z",
     "start_time": "2021-02-23T07:25:41.194497Z"
    }
   },
   "outputs": [],
   "source": [
    "def calculate_median(sorted_list):\n",
    "    \"\"\"\n",
    "    Takes the sorted list, returns the median of the list\n",
    "    input: list of ints(or floats)\n",
    "    output: integer (or float)\n",
    "    \"\"\"\n",
    "    # count total number of elements store in total_var\n",
    "    total_var = len(sorted_list)\n",
    "    # if total number of elements is odd\n",
    "    if total_var%2 != 0:\n",
    "        # divide total number of elements by 2 and round down store in location_var\n",
    "        location_var = total_var//2 \n",
    "            #holding location of median\n",
    "        # return element from sorted_list at location_var\n",
    "        return sorted_list[location_var]\n",
    "    # if total number of elements in even \n",
    "    elif total_var%2 == 0:\n",
    "        # divide total_var by 2 and subtract by 1 store in half_var\n",
    "        half_var = int((total_var/2))- 1\n",
    "        # find mean of elements at half_var and half_var + 1\n",
    "        median = (sorted_list[half_var] + sorted_list[half_var+1])/2\n",
    "        return median \n",
    "        \n",
    "    "
   ]
  },
  {
   "cell_type": "markdown",
   "metadata": {},
   "source": [
    "✅✅ Test: Use your function to calculate the median of the small data list. Is it the same as your hand calculations?"
   ]
  },
  {
   "cell_type": "code",
   "execution_count": 3,
   "metadata": {
    "ExecuteTime": {
     "end_time": "2021-02-23T07:25:05.381798Z",
     "start_time": "2021-02-23T07:25:05.374620Z"
    }
   },
   "outputs": [
    {
     "ename": "NameError",
     "evalue": "name 'odd_data' is not defined",
     "output_type": "error",
     "traceback": [
      "\u001b[0;31m---------------------------------------------------------------------------\u001b[0m",
      "\u001b[0;31mNameError\u001b[0m                                 Traceback (most recent call last)",
      "Input \u001b[0;32mIn [3]\u001b[0m, in \u001b[0;36m<module>\u001b[0;34m\u001b[0m\n\u001b[0;32m----> 1\u001b[0m \u001b[38;5;28mprint\u001b[39m(\u001b[43modd_data\u001b[49m)\n\u001b[1;32m      2\u001b[0m calculate_median(odd_data)\n",
      "\u001b[0;31mNameError\u001b[0m: name 'odd_data' is not defined"
     ]
    }
   ],
   "source": [
    "print(odd_data)\n",
    "calculate_median(odd_data)"
   ]
  },
  {
   "cell_type": "code",
   "execution_count": 4,
   "metadata": {
    "ExecuteTime": {
     "end_time": "2021-02-23T07:25:43.975933Z",
     "start_time": "2021-02-23T07:25:43.969538Z"
    }
   },
   "outputs": [
    {
     "ename": "NameError",
     "evalue": "name 'even_data' is not defined",
     "output_type": "error",
     "traceback": [
      "\u001b[0;31m---------------------------------------------------------------------------\u001b[0m",
      "\u001b[0;31mNameError\u001b[0m                                 Traceback (most recent call last)",
      "Input \u001b[0;32mIn [4]\u001b[0m, in \u001b[0;36m<module>\u001b[0;34m\u001b[0m\n\u001b[0;32m----> 1\u001b[0m \u001b[38;5;28mprint\u001b[39m(\u001b[43meven_data\u001b[49m)\n\u001b[1;32m      2\u001b[0m calculate_median(even_data)\n",
      "\u001b[0;31mNameError\u001b[0m: name 'even_data' is not defined"
     ]
    }
   ],
   "source": [
    "print(even_data)\n",
    "calculate_median(even_data)"
   ]
  },
  {
   "cell_type": "markdown",
   "metadata": {
    "heading_collapsed": true
   },
   "source": [
    "## Mode"
   ]
  },
  {
   "cell_type": "markdown",
   "metadata": {
    "hidden": true
   },
   "source": [
    "💻 Write the mode function and the helper function, create_counts_dict"
   ]
  },
  {
   "cell_type": "markdown",
   "metadata": {
    "hidden": true
   },
   "source": [
    "<img src = \"https://mediadc.brightspotcdn.com/dims4/default/a12d362/2147483647/strip/true/crop/2400x1264+0+0/resize/2400x1264!/quality/90/?url=https%3A%2F%2Fmediadc.brightspotcdn.com%2F14%2F0d%2F29f5ea424f6fa447310a14d6362c%2F03-skinner-openbooks.jpg\" style=\"width:500px\">\n",
    "\n",
    "**Dictionary alert: You may want to use a dictionary to solve this problem.**"
   ]
  },
  {
   "cell_type": "code",
   "execution_count": null,
   "metadata": {
    "ExecuteTime": {
     "end_time": "2021-03-03T03:39:14.890200Z",
     "start_time": "2021-03-03T03:39:14.886222Z"
    },
    "hidden": true
   },
   "outputs": [],
   "source": [
    "print(\"Odd Data\", odd_data)\n",
    "print(\"Even Data\", even_data)\n"
   ]
  },
  {
   "cell_type": "code",
   "execution_count": null,
   "metadata": {
    "ExecuteTime": {
     "end_time": "2021-03-03T03:39:18.256801Z",
     "start_time": "2021-03-03T03:39:18.252092Z"
    },
    "hidden": true
   },
   "outputs": [],
   "source": [
    "def create_counts_dict(list_of_numbers):\n",
    "    \"\"\"\n",
    "    Returns a dictionary that contains each item of the list (as a key) and how often they appear (as the value)\n",
    "    \"\"\"\n",
    "    d = {}\n",
    "    for item in list_of_numbers:\n",
    "        if item not in d:\n",
    "            d[item] = 1\n",
    "        else:\n",
    "            d[item] += 1\n",
    "    return d\n",
    "    \n",
    "    #WRITE YOUR CODE HERE\n",
    "\n",
    "def calculate_mode(list_of_numbers):\n",
    "    \"\"\"\n",
    "    Returns the number that occurred most often in the list of numbers. \n",
    "    If there is more than one mode (or no mode), the first one to appear in the list is returned.\n",
    "    input: list of ints (or floats)\n",
    "    output: float\n",
    "    \"\"\"\n",
    "    d = create_counts_dict(list_of_numbers)\n",
    "    mode = None\n",
    "    for key,val in d.items():\n",
    "        if mode == None:\n",
    "            mode = key\n",
    "        elif val > d[mode]:\n",
    "            mode = key\n",
    "    return mode\n"
   ]
  },
  {
   "cell_type": "markdown",
   "metadata": {
    "hidden": true
   },
   "source": [
    "✅✅ Test: Use your function to calculate the mode of the small data list. Is it the same as your hand calculations?"
   ]
  },
  {
   "cell_type": "code",
   "execution_count": null,
   "metadata": {
    "ExecuteTime": {
     "end_time": "2021-03-03T03:39:19.328302Z",
     "start_time": "2021-03-03T03:39:19.323242Z"
    },
    "hidden": true
   },
   "outputs": [],
   "source": [
    "create_counts_dict(odd_data)"
   ]
  },
  {
   "cell_type": "code",
   "execution_count": null,
   "metadata": {
    "ExecuteTime": {
     "end_time": "2021-03-03T03:39:20.633799Z",
     "start_time": "2021-03-03T03:39:20.628460Z"
    },
    "hidden": true
   },
   "outputs": [],
   "source": [
    "calculate_mode(odd_data)"
   ]
  },
  {
   "cell_type": "code",
   "execution_count": null,
   "metadata": {
    "ExecuteTime": {
     "end_time": "2021-03-03T03:39:21.114293Z",
     "start_time": "2021-03-03T03:39:21.109013Z"
    },
    "hidden": true
   },
   "outputs": [],
   "source": [
    "calculate_mode(even_data)"
   ]
  },
  {
   "cell_type": "markdown",
   "metadata": {
    "hidden": true
   },
   "source": [
    "**✏️ Answer the questions in the *1.2 Calculate The Central Tendency* section of your Checkpoints document before moving on.**"
   ]
  },
  {
   "cell_type": "markdown",
   "metadata": {
    "heading_collapsed": true
   },
   "source": [
    "# Extension: What is a spread?"
   ]
  },
  {
   "cell_type": "markdown",
   "metadata": {
    "hidden": true
   },
   "source": [
    "<img src = \"https://soupsahoy.files.wordpress.com/2015/01/hk-french-toast_2.jpg\">"
   ]
  },
  {
   "cell_type": "markdown",
   "metadata": {
    "hidden": true
   },
   "source": [
    "👀 **You can have it with toast and statistics.**\n",
    "\n",
    "It turns out that the central tendency of the dataset doesn't tell us the whole story.\n",
    "\n",
    "For example, consider the red dataset and the blue dataset. They have the same middle (both mean and median = 7), but one has much higher spread than the other.\n",
    "\n",
    "**Which dataset is your sleep schedule more like? What kind of spread do you have?**"
   ]
  },
  {
   "cell_type": "markdown",
   "metadata": {
    "hidden": true
   },
   "source": [
    "<img src=\"https://i.imgur.com/hw9yRAK.png\" style=\"width:500px\">"
   ]
  },
  {
   "cell_type": "markdown",
   "metadata": {
    "hidden": true
   },
   "source": [
    "*(Optional) Explore mean and median [here](https://teacher.desmos.com/activitybuilder/custom/5733262bfd802215069a40c0#preview/c150c31c-cac4-4b2b-8753-d0aea1ce3aa1)*"
   ]
  },
  {
   "cell_type": "markdown",
   "metadata": {
    "hidden": true
   },
   "source": [
    "### Interquartile range (IQR)"
   ]
  },
  {
   "cell_type": "markdown",
   "metadata": {
    "hidden": true
   },
   "source": [
    "👀 A quartile divides the number of data points into four parts, or quarters, of more-or-less equal size.\n",
    "\n",
    "The lower quartile is the first quarter of the data, and the upper quartile is the last quarter of the data.\n",
    "\n",
    "The IQR is equal to the value at the bottom of the upper quartile (Q3) minus the value at the top of the lower quartile (Q1). **This number will tells us how far the upper and lower quartile are from the median.** \n",
    "\n",
    "Calculating the IQR helps us understand the spread of our data because it allows us the see how large the gap is between the lower quartile of our data and the upper quartile of our data. The larger the gap, the more our data must be spread out."
   ]
  },
  {
   "cell_type": "markdown",
   "metadata": {
    "heading_collapsed": true,
    "hidden": true
   },
   "source": [
    "## Calculating Spread"
   ]
  },
  {
   "cell_type": "markdown",
   "metadata": {
    "hidden": true
   },
   "source": [
    "<img src = \"https://www.simplypsychology.org/IQR.jpg\">"
   ]
  },
  {
   "cell_type": "markdown",
   "metadata": {
    "heading_collapsed": true,
    "hidden": true
   },
   "source": [
    "#### List slicing\n",
    "Since the IQR uses smaller parts of a dataset, we're going to need to find a way to get specific sections of a list. We can accomplish this with list *slicing*."
   ]
  },
  {
   "cell_type": "code",
   "execution_count": null,
   "metadata": {
    "hidden": true
   },
   "outputs": [],
   "source": [
    "odd_data"
   ]
  },
  {
   "cell_type": "markdown",
   "metadata": {
    "hidden": true
   },
   "source": [
    "To get everything from the beginning of a list up to (but not including) a particular index, you can leave out the first number:"
   ]
  },
  {
   "cell_type": "markdown",
   "metadata": {
    "hidden": true
   },
   "source": [
    "To get a particular section of a list, we can put two numbers into the `[]` operator separated by a `:`:\n",
    "\n",
    "`mylist[start_index:stop_index]`"
   ]
  },
  {
   "cell_type": "code",
   "execution_count": null,
   "metadata": {
    "hidden": true
   },
   "outputs": [],
   "source": [
    "odd_data[1:3]"
   ]
  },
  {
   "cell_type": "markdown",
   "metadata": {
    "hidden": true
   },
   "source": [
    "*Notice that the element at index 3 is not included in the slice, only the elements up to 3.*"
   ]
  },
  {
   "cell_type": "markdown",
   "metadata": {
    "hidden": true
   },
   "source": [
    "To get everything from the beginning of a list up to (but not including) a particular index, you can leave out the first number:"
   ]
  },
  {
   "cell_type": "code",
   "execution_count": null,
   "metadata": {
    "hidden": true
   },
   "outputs": [],
   "source": [
    "odd_data[:3]"
   ]
  },
  {
   "cell_type": "markdown",
   "metadata": {
    "hidden": true
   },
   "source": [
    "To get everything from a particular index (inclusive) to the end of a list, you can leave out the second number:"
   ]
  },
  {
   "cell_type": "code",
   "execution_count": null,
   "metadata": {
    "hidden": true
   },
   "outputs": [],
   "source": [
    "odd_data[3:]"
   ]
  },
  {
   "cell_type": "markdown",
   "metadata": {
    "heading_collapsed": true,
    "hidden": true
   },
   "source": [
    "#### Find quartiles"
   ]
  },
  {
   "cell_type": "markdown",
   "metadata": {
    "hidden": true
   },
   "source": [
    "In order to find the IQR, first we need to be able to find the top value of the lower quartile (Q1) and the bottom value of the upper quartile (Q3) of our data.\n",
    "\n",
    "💻 Write functions to find Q1 below:"
   ]
  },
  {
   "cell_type": "code",
   "execution_count": null,
   "metadata": {
    "hidden": true
   },
   "outputs": [],
   "source": [
    "def below_median(sorted_list):\n",
    "    \"\"\"\n",
    "    Returns just the part of the sorted list which is below the median.\n",
    "    input: list of ints (or floats)\n",
    "    output: list of ints (or floats)\n",
    "    \"\"\"\n",
    "    #WRITE YOUR CODE HERE\n",
    "\n",
    "def calculate_Q1(sorted_list):\n",
    "    \"\"\"\n",
    "    Takes the sorted list, returns the lower quartile of the list,\n",
    "    which is defined as the median of the data points to the left of the median\n",
    "    input: list of ints (or floats)\n",
    "    output: integer (or float)\n",
    "    \"\"\"\n",
    "    #WRITE YOUR CODE HERE"
   ]
  },
  {
   "cell_type": "markdown",
   "metadata": {
    "hidden": true
   },
   "source": [
    "✅✅ Test your `below_median()` and `calculate_Q1()` functions below:"
   ]
  },
  {
   "cell_type": "code",
   "execution_count": null,
   "metadata": {
    "hidden": true
   },
   "outputs": [],
   "source": [
    "#TEST YOUR CODE HERE"
   ]
  },
  {
   "cell_type": "markdown",
   "metadata": {
    "hidden": true
   },
   "source": [
    "💻 Write functions to find Q3 below:"
   ]
  },
  {
   "cell_type": "code",
   "execution_count": null,
   "metadata": {
    "hidden": true
   },
   "outputs": [],
   "source": [
    "def above_median(sorted_list):\n",
    "    \"\"\"\n",
    "    Returns just the part of the sorted list which is above the median.\n",
    "    input: list of ints (or floats)\n",
    "    output: list of ints (or floats)\n",
    "    \"\"\"\n",
    "    #WRITE YOUR CODE HERE\n",
    "\n",
    "def calculate_Q3(sorted_list):\n",
    "    \"\"\"\n",
    "    Takes the sorted list, returns the upper quartile of the list,\n",
    "    which is defined as the median of the data points to the right of the median.\n",
    "    input: list of ints(or floats)\n",
    "    output: integer (or float)\n",
    "    \"\"\"\n",
    "    #WRITE YOUR CODE HERE"
   ]
  },
  {
   "cell_type": "markdown",
   "metadata": {
    "hidden": true
   },
   "source": [
    "✅✅ Test your `above_median()` and `calculate_Q3()` functions below:"
   ]
  },
  {
   "cell_type": "code",
   "execution_count": null,
   "metadata": {
    "hidden": true
   },
   "outputs": [],
   "source": [
    "#TEST YOUR CODE HERE"
   ]
  },
  {
   "cell_type": "markdown",
   "metadata": {
    "heading_collapsed": true,
    "hidden": true
   },
   "source": [
    "#### Calculating IQR"
   ]
  },
  {
   "cell_type": "markdown",
   "metadata": {
    "hidden": true
   },
   "source": [
    "Now that we can find Q1 and Q3, we can easily calculate the difference between these two values in order to find the IQR.\n",
    "\n",
    "💻 Write the function calculate IQR below:"
   ]
  },
  {
   "cell_type": "code",
   "execution_count": null,
   "metadata": {
    "hidden": true
   },
   "outputs": [],
   "source": [
    "def calculate_IQR(sorted_list):\n",
    "    \"\"\"\n",
    "    Takes the sorted list, calculates Q1 and Q3, and returns the difference between Q3 and Q1, which is the interquartile range. \n",
    "    input: list of ints(or floats)\n",
    "    output: integer (or float)\n",
    "    \"\"\"\n",
    "    #WRITE YOUR CODE HERE"
   ]
  },
  {
   "cell_type": "markdown",
   "metadata": {
    "hidden": true
   },
   "source": [
    "✅✅ Test: Use your function to calculate the interquartile of the small data list. Is it the same as your hand calculations?"
   ]
  },
  {
   "cell_type": "code",
   "execution_count": null,
   "metadata": {
    "hidden": true
   },
   "outputs": [],
   "source": [
    "calculate_IQR(odd_data)"
   ]
  },
  {
   "cell_type": "code",
   "execution_count": null,
   "metadata": {
    "hidden": true
   },
   "outputs": [],
   "source": [
    "calculate_IQR(even_data)"
   ]
  },
  {
   "cell_type": "markdown",
   "metadata": {
    "heading_collapsed": true,
    "hidden": true
   },
   "source": [
    "### Percentiles"
   ]
  },
  {
   "cell_type": "markdown",
   "metadata": {
    "hidden": true
   },
   "source": [
    "👀 A percentile is a value at or below which a given percentage of all the values in the dataset fall.\n",
    "\n",
    "**This statistic helps you understand how you rank compared to everyone else. For example, if you are at the 80th percentile for height, that means you rank higher than 80% of people.**\n",
    "\n",
    "<img src=\"https://www.mathsisfun.com/data/images/percentile-80.svg\">\n",
    "\n",
    "You just calculated the value at the 25th percentile (Q1), the value at the 50th percentile (the median/Q2), and the value at the 75th percentile (Q3).\n",
    "\n",
    "**These are very useful statistics, but what about the other 97 percentiles?**\n",
    "\n",
    "\n",
    "<img src= \"http://my.ilstu.edu/~gjin/hsc204-eh/Module-5-Summary-Measure-2/Figure-3-8.png\">"
   ]
  },
  {
   "cell_type": "markdown",
   "metadata": {
    "hidden": true
   },
   "source": []
  },
  {
   "cell_type": "markdown",
   "metadata": {
    "hidden": true
   },
   "source": [
    "**We could create a function ourselves to calculate the percentile...**\n",
    "\n",
    "But there's a shortcut: using a pre-written Python library to do it for us.\n",
    "\n",
    "This may feel a bit like cheat, but it's not! Being able to effectively use code written by others is an essential skill to be a good computer scientist. After all, science wouldn't get anywhere if we had to re-invent the wheel every time we needed a cart.\n",
    "\n",
    "**👀 Let's check out the `numpy` library's percentile: https://stackoverflow.com/questions/2374640/how-do-i-calculate-percentiles-with-python-numpy**\n",
    "\n",
    "<img src=\"https://numpy.org/images/logos/numpy.svg\" width=200>\n",
    "\n",
    "*Side note: What is numpy?*\n",
    "It's a python library that helps us do mathematical calculations. "
   ]
  },
  {
   "cell_type": "code",
   "execution_count": null,
   "metadata": {
    "hidden": true
   },
   "outputs": [],
   "source": [
    "import numpy as np"
   ]
  },
  {
   "cell_type": "markdown",
   "metadata": {
    "hidden": true
   },
   "source": [
    "💻 Use this function to calculate what the 90th percentile would be for the small odd data list:"
   ]
  },
  {
   "cell_type": "code",
   "execution_count": null,
   "metadata": {
    "hidden": true
   },
   "outputs": [],
   "source": [
    "np.percentile(odd_data, 90)"
   ]
  },
  {
   "cell_type": "markdown",
   "metadata": {
    "hidden": true
   },
   "source": [
    "💻 What about the 10th percentile?"
   ]
  },
  {
   "cell_type": "code",
   "execution_count": null,
   "metadata": {
    "hidden": true
   },
   "outputs": [],
   "source": [
    "#WRITE YOUR CODE HERE"
   ]
  },
  {
   "cell_type": "markdown",
   "metadata": {
    "hidden": true
   },
   "source": [
    "**✏️ Answer the questions in the *1.3 Calculating Spread* section of your Checkpoints document before moving on.**"
   ]
  },
  {
   "cell_type": "markdown",
   "metadata": {
    "heading_collapsed": true
   },
   "source": [
    "# Extension: Bigger Data\n",
    "Now that you've tested your code for generating summary statistics on some small datasets, lets try them on a larger dataset: the social media data we collected!\n",
    "\n",
    "To do this, we'll use a library called pandas:"
   ]
  },
  {
   "cell_type": "code",
   "execution_count": null,
   "metadata": {
    "hidden": true
   },
   "outputs": [],
   "source": [
    "import pandas as pd"
   ]
  },
  {
   "cell_type": "markdown",
   "metadata": {
    "hidden": true
   },
   "source": [
    "<img src=\"https://miro.medium.com/max/2550/1*6d5dw6dPhy4vBp2vRW6uzw.png\" width=\"500\" height=\"100\" />\n",
    "\n",
    "**What is pandas, and why are we importing it?**\n",
    "\n",
    "It's a python library that helps us organize and access our data set into an object called a dataframe, or df for short."
   ]
  },
  {
   "cell_type": "code",
   "execution_count": null,
   "metadata": {
    "hidden": true
   },
   "outputs": [],
   "source": [
    "df = pd.read_csv('social_media_use_clean.csv')\n",
    "df"
   ]
  },
  {
   "cell_type": "markdown",
   "metadata": {
    "hidden": true
   },
   "source": [
    "To make this data work with the functions we wrote for this lab, we'll change columns of this data into lists.\n",
    "\n",
    "💻 Pick one column from the df above and put its name into the code below:"
   ]
  },
  {
   "cell_type": "code",
   "execution_count": null,
   "metadata": {
    "hidden": true
   },
   "outputs": [],
   "source": [
    "tu_data_list = df[\"COLUMN_NAME_HERE\"].dropna().tolist()\n",
    "tu_data_list"
   ]
  },
  {
   "cell_type": "markdown",
   "metadata": {
    "hidden": true
   },
   "source": [
    "Now, you can use the `sm_data_list` as a parameter for the statiscs functions you wrote.\n",
    "\n",
    "💻 Try calculating the mean, median, mode, IQR, and some percentiles below:"
   ]
  },
  {
   "cell_type": "code",
   "execution_count": null,
   "metadata": {
    "hidden": true
   },
   "outputs": [],
   "source": [
    "calculate_mean(sorted(tu_data_list))"
   ]
  },
  {
   "cell_type": "markdown",
   "metadata": {
    "hidden": true
   },
   "source": [
    "**✏️ Answer the questions in the *1.3 Bigger Data* section of your Checkpoints document before moving on.**"
   ]
  },
  {
   "cell_type": "code",
   "execution_count": null,
   "metadata": {
    "hidden": true
   },
   "outputs": [],
   "source": []
  }
 ],
 "metadata": {
  "kernelspec": {
   "display_name": "Python 3 (ipykernel)",
   "language": "python",
   "name": "python3"
  },
  "language_info": {
   "codemirror_mode": {
    "name": "ipython",
    "version": 3
   },
   "file_extension": ".py",
   "mimetype": "text/x-python",
   "name": "python",
   "nbconvert_exporter": "python",
   "pygments_lexer": "ipython3",
   "version": "3.9.7"
  },
  "toc": {
   "base_numbering": 1,
   "nav_menu": {},
   "number_sections": false,
   "sideBar": true,
   "skip_h1_title": false,
   "title_cell": "Table of Contents",
   "title_sidebar": "Contents",
   "toc_cell": false,
   "toc_position": {
    "height": "calc(100% - 180px)",
    "left": "10px",
    "top": "150px",
    "width": "165px"
   },
   "toc_section_display": true,
   "toc_window_display": true
  },
  "varInspector": {
   "cols": {
    "lenName": 16,
    "lenType": 16,
    "lenVar": 40
   },
   "kernels_config": {
    "python": {
     "delete_cmd_postfix": "",
     "delete_cmd_prefix": "del ",
     "library": "var_list.py",
     "varRefreshCmd": "print(var_dic_list())"
    },
    "r": {
     "delete_cmd_postfix": ") ",
     "delete_cmd_prefix": "rm(",
     "library": "var_list.r",
     "varRefreshCmd": "cat(var_dic_list()) "
    }
   },
   "types_to_exclude": [
    "module",
    "function",
    "builtin_function_or_method",
    "instance",
    "_Feature"
   ],
   "window_display": false
  }
 },
 "nbformat": 4,
 "nbformat_minor": 2
}
