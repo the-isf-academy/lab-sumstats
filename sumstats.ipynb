{
 "cells": [
  {
   "cell_type": "markdown",
   "metadata": {},
   "source": [
    "# Lab: Summary Statistics"
   ]
  },
  {
   "cell_type": "markdown",
   "metadata": {},
   "source": [
    "Now that you are confident in your algorithms, try to translate them into Python code.\n"
   ]
  },
  {
   "cell_type": "markdown",
   "metadata": {},
   "source": [
    "## Mean\n",
    "\n",
    "Frist, let's calculate the mean of our data. As a reminder, the mean is the average value of a list of numbers."
   ]
  },
  {
   "cell_type": "markdown",
   "metadata": {},
   "source": [
    "💻 **Write the function `calculate_mean()`.**\n",
    "\n",
    "Parameter: a list of numbers \n",
    "\n",
    "Return value: the mean "
   ]
  },
  {
   "cell_type": "code",
   "execution_count": 10,
   "metadata": {},
   "outputs": [],
   "source": [
    "# 💻 Write the calculate_mean() function here\n"
   ]
  },
  {
   "cell_type": "markdown",
   "metadata": {},
   "source": [
    "✅ **Test: Use your `calculate_mean()` function to calculate the mean of the `mean_test_data` list.**\n"
   ]
  },
  {
   "cell_type": "markdown",
   "metadata": {},
   "source": [
    "💻 **Fill in `mean_test_data` with a list of numbers.**"
   ]
  },
  {
   "cell_type": "code",
   "execution_count": null,
   "metadata": {
    "ExecuteTime": {
     "end_time": "2021-03-03T03:41:38.325371Z",
     "start_time": "2021-03-03T03:41:38.321598Z"
    }
   },
   "outputs": [],
   "source": [
    "mean_test_data = "
   ]
  },
  {
   "cell_type": "code",
   "execution_count": null,
   "metadata": {},
   "outputs": [],
   "source": [
    "# 💻 Test your calculate_mean() function "
   ]
  },
  {
   "cell_type": "markdown",
   "metadata": {},
   "source": [
    "## Median\n",
    "\n",
    "Next, we'll calculate the median of our data. As a reminder, the median is the middle number in a sorted, ascending or descending, list of numbers.\n"
   ]
  },
  {
   "cell_type": "markdown",
   "metadata": {},
   "source": [
    "### Sorting the data\n",
    "Often, we will want our data to be sorted. This will help us search through the data and will also help us calculate statistics like the median.\n",
    "\n",
    "We can easily accomplish this with the `sorted()` function:\n",
    "```python\n",
    "sorted_data = sorted(unsorted)\n",
    "```"
   ]
  },
  {
   "cell_type": "markdown",
   "metadata": {},
   "source": [
    "💻 **Fill in `median_test_data_odd` and `median_test_data_even`, each with a list of numbers.**"
   ]
  },
  {
   "cell_type": "code",
   "execution_count": null,
   "metadata": {
    "ExecuteTime": {
     "end_time": "2021-03-03T03:41:38.325371Z",
     "start_time": "2021-03-03T03:41:38.321598Z"
    }
   },
   "outputs": [],
   "source": [
    "median_test_data_odd = \n",
    "median_test_data_even ="
   ]
  },
  {
   "cell_type": "markdown",
   "metadata": {},
   "source": [
    "💻 **Sort the`median_test_data_odd`list and the `median_test_data_even` list below.**"
   ]
  },
  {
   "cell_type": "code",
   "execution_count": 1,
   "metadata": {
    "ExecuteTime": {
     "end_time": "2021-03-03T03:33:50.376976Z",
     "start_time": "2021-03-03T03:33:50.362694Z"
    }
   },
   "outputs": [],
   "source": [
    "# 💻 Sort each list here"
   ]
  },
  {
   "cell_type": "markdown",
   "metadata": {},
   "source": [
    "💻 **Write the function `calculate_median()`:**\n",
    "\n",
    "Parameter: a list of numbers \n",
    "\n",
    "Return value: the median \n",
    "\n",
    "*Tip: consider the the possible cases of our data. How do you calculate the median of an even amount of data? Of an odd amount of data?*"
   ]
  },
  {
   "cell_type": "code",
   "execution_count": 11,
   "metadata": {
    "ExecuteTime": {
     "end_time": "2021-02-23T07:25:41.199057Z",
     "start_time": "2021-02-23T07:25:41.194497Z"
    }
   },
   "outputs": [],
   "source": [
    "# 💻 Write the calculate_median() function here"
   ]
  },
  {
   "cell_type": "markdown",
   "metadata": {},
   "source": [
    "✅ **Test: Use your `calculate_median()` function to calculate the median of the `median_test_data_odd` and `median_test_data_even` lists.**"
   ]
  },
  {
   "cell_type": "code",
   "execution_count": 5,
   "metadata": {},
   "outputs": [],
   "source": [
    "# 💻 Test your calculate_median() function "
   ]
  },
  {
   "cell_type": "markdown",
   "metadata": {},
   "source": [
    "## Mode\n",
    "\n",
    "Lastly, let's calculate the mode of our data. As a reminder, the mode is value that appears most often in a data set."
   ]
  },
  {
   "cell_type": "markdown",
   "metadata": {},
   "source": [
    "<img src = \"https://mediadc.brightspotcdn.com/dims4/default/a12d362/2147483647/strip/true/crop/2400x1264+0+0/resize/2400x1264!/quality/90/?url=https%3A%2F%2Fmediadc.brightspotcdn.com%2F14%2F0d%2F29f5ea424f6fa447310a14d6362c%2F03-skinner-openbooks.jpg\" style=\"width:500px\">\n",
    "\n",
    "**Dictionary alert**"
   ]
  },
  {
   "cell_type": "markdown",
   "metadata": {},
   "source": [
    "💻 **Start by writing the helper function, `create_counts_dict()`:**\n",
    "\n",
    "Parameter: a list of values\n",
    "\n",
    "Return value: a dictionary contains each item of the list (as a key) and how often they appear (as the value)"
   ]
  },
  {
   "cell_type": "code",
   "execution_count": 8,
   "metadata": {},
   "outputs": [],
   "source": [
    "# 💻 Write the create_counts_dict() function here\n"
   ]
  },
  {
   "cell_type": "markdown",
   "metadata": {},
   "source": [
    "✅ **Test: Use your `create_counts_dict()` function to convert `mode_test_data` from a list to a dictionary.** Does it create the dictionary you expected?"
   ]
  },
  {
   "cell_type": "markdown",
   "metadata": {},
   "source": [
    "💻 **Fill in `mode_test_data` each with a list of values.**\n",
    "\n",
    "e.g. `['dog','dog','cat','mouse','mouse','dog']`\n",
    "\n",
    "e.g. `[5,10,5,'dog','dog',29,5,5]`"
   ]
  },
  {
   "cell_type": "code",
   "execution_count": 12,
   "metadata": {
    "ExecuteTime": {
     "end_time": "2021-03-03T03:41:38.325371Z",
     "start_time": "2021-03-03T03:41:38.321598Z"
    }
   },
   "outputs": [
    {
     "ename": "SyntaxError",
     "evalue": "invalid syntax (<ipython-input-12-c4654e085a24>, line 1)",
     "output_type": "error",
     "traceback": [
      "\u001b[0;36m  File \u001b[0;32m\"<ipython-input-12-c4654e085a24>\"\u001b[0;36m, line \u001b[0;32m1\u001b[0m\n\u001b[0;31m    mode_test_data =\u001b[0m\n\u001b[0m                    ^\u001b[0m\n\u001b[0;31mSyntaxError\u001b[0m\u001b[0;31m:\u001b[0m invalid syntax\n"
     ]
    }
   ],
   "source": [
    "mode_test_data ="
   ]
  },
  {
   "cell_type": "code",
   "execution_count": 13,
   "metadata": {},
   "outputs": [],
   "source": [
    "# 💻 Test your create_counts_dict() function here"
   ]
  },
  {
   "cell_type": "markdown",
   "metadata": {},
   "source": [
    "💻 **Now, write the main function, `calculate mode()`:**\n",
    "\n",
    "Parameter: a list of values\n",
    "\n",
    "Return value: the value that occured most often in the list. If there is more than one mode (or no mode), the first one to appear in the list is returned.\n",
    "\n",
    "*Be sure to use your `create_counts_dict()` to help write this function.*\n"
   ]
  },
  {
   "cell_type": "code",
   "execution_count": null,
   "metadata": {
    "ExecuteTime": {
     "end_time": "2021-03-03T03:39:18.256801Z",
     "start_time": "2021-03-03T03:39:18.252092Z"
    }
   },
   "outputs": [],
   "source": [
    "# 💻 Write the calculate_mode() function here\n"
   ]
  },
  {
   "cell_type": "markdown",
   "metadata": {},
   "source": [
    "✅ **Test: Use your `calculate_mode()` function to calculate the mode of the `mode_test_data` list.** Is it the same as your hand calculations?"
   ]
  },
  {
   "cell_type": "code",
   "execution_count": 5,
   "metadata": {},
   "outputs": [],
   "source": [
    "# 💻 Test your calculate_mode() function "
   ]
  },
  {
   "cell_type": "markdown",
   "metadata": {},
   "source": [
    "## Deliverables"
   ]
  },
  {
   "cell_type": "markdown",
   "metadata": {},
   "source": [
    "⚡✨\n",
    "\n",
    "**💻 Be sure to push your finished work to Github.** "
   ]
  }
 ],
 "metadata": {
  "kernelspec": {
   "display_name": "Python 3",
   "language": "python",
   "name": "python3"
  },
  "language_info": {
   "codemirror_mode": {
    "name": "ipython",
    "version": 3
   },
   "file_extension": ".py",
   "mimetype": "text/x-python",
   "name": "python",
   "nbconvert_exporter": "python",
   "pygments_lexer": "ipython3",
   "version": "3.9.6"
  },
  "toc": {
   "base_numbering": 1,
   "nav_menu": {},
   "number_sections": false,
   "sideBar": true,
   "skip_h1_title": false,
   "title_cell": "Table of Contents",
   "title_sidebar": "Contents",
   "toc_cell": false,
   "toc_position": {
    "height": "calc(100% - 180px)",
    "left": "10px",
    "top": "150px",
    "width": "165px"
   },
   "toc_section_display": true,
   "toc_window_display": true
  },
  "varInspector": {
   "cols": {
    "lenName": 16,
    "lenType": 16,
    "lenVar": 40
   },
   "kernels_config": {
    "python": {
     "delete_cmd_postfix": "",
     "delete_cmd_prefix": "del ",
     "library": "var_list.py",
     "varRefreshCmd": "print(var_dic_list())"
    },
    "r": {
     "delete_cmd_postfix": ") ",
     "delete_cmd_prefix": "rm(",
     "library": "var_list.r",
     "varRefreshCmd": "cat(var_dic_list()) "
    }
   },
   "types_to_exclude": [
    "module",
    "function",
    "builtin_function_or_method",
    "instance",
    "_Feature"
   ],
   "window_display": false
  }
 },
 "nbformat": 4,
 "nbformat_minor": 2
}
