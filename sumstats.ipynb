{
 "cells": [
  {
   "cell_type": "markdown",
   "metadata": {},
   "source": [
    "# Lab: Summary Statistics"
   ]
  },
  {
   "cell_type": "markdown",
   "metadata": {},
   "source": [
    "Now that you are confident in your algorithms, try to translate them into Python code.\n"
   ]
  },
  {
   "cell_type": "markdown",
   "metadata": {},
   "source": [
    "## Mean\n",
    "\n",
    "Frist, let's calculate the mean of our data. As a reminder, the mean is the average value of a list of numbers."
   ]
  },
  {
   "cell_type": "markdown",
   "metadata": {},
   "source": [
    "💻 **Write the function `calculate_mean()`.**\n",
    "\n",
    "Parameter: a list of numbers \n",
    "\n",
    "Return value: the mean "
   ]
  },
  {
   "cell_type": "code",
   "execution_count": null,
   "metadata": {},
   "outputs": [],
   "source": [
    "# 💻 Write the calculate_mean() function here\n"
   ]
  },
  {
   "cell_type": "markdown",
   "metadata": {},
   "source": [
    "✅ **Test: Use your `calculate_mean()` function to calculate the mean of the `mean_test_data` list.**\n"
   ]
  },
  {
   "cell_type": "markdown",
   "metadata": {},
   "source": [
    "💻 **Fill in `mean_test_data` with a list of numbers.**"
   ]
  },
  {
   "cell_type": "code",
   "execution_count": null,
   "metadata": {
    "ExecuteTime": {
     "end_time": "2021-03-03T03:41:38.325371Z",
     "start_time": "2021-03-03T03:41:38.321598Z"
    }
   },
   "outputs": [],
   "source": [
    "mean_test_data = "
   ]
  },
  {
   "cell_type": "code",
   "execution_count": null,
   "metadata": {},
   "outputs": [],
   "source": [
    "# 💻 Test your calculate_mean() function "
   ]
  },
  {
   "cell_type": "markdown",
   "metadata": {},
   "source": [
    "## Median\n",
    "\n",
    "Next, we'll calculate the median of our data. As a reminder, the median is the middle number in a sorted, ascending or descending, list of numbers.\n"
   ]
  },
  {
   "cell_type": "markdown",
   "metadata": {},
   "source": [
    "### Sorting the data\n",
    "Often, we will want our data to be sorted. This will help us search through the data and will also help us calculate statistics like the median.\n",
    "\n",
    "We can easily accomplish this with the `sorted()` function:\n",
    "```python\n",
    "sorted_data = sorted(unsorted_data)\n",
    "```"
   ]
  },
  {
   "cell_type": "markdown",
   "metadata": {},
   "source": [
    "💻 **Write the function `calculate_median()`:**\n",
    "\n",
    "Parameter: a list of numbers \n",
    "\n",
    "Return value: the median \n",
    "\n",
    "*Tip: consider the the possible cases of our data. How do you calculate the median of an even amount of data? Of an odd amount of data?*"
   ]
  },
  {
   "cell_type": "code",
   "execution_count": null,
   "metadata": {
    "ExecuteTime": {
     "end_time": "2021-02-23T07:25:41.199057Z",
     "start_time": "2021-02-23T07:25:41.194497Z"
    }
   },
   "outputs": [],
   "source": [
    "# 💻 Write the calculate_median() function here"
   ]
  },
  {
   "cell_type": "markdown",
   "metadata": {},
   "source": [
    "✅ **Test: Use your `calculate_median()` function to calculate the median of the `median_test_data_odd` and `median_test_data_even` lists.**"
   ]
  },
  {
   "cell_type": "markdown",
   "metadata": {},
   "source": [
    "💻 **Fill in `median_test_data_odd` and `median_test_data_even`, each with a list of numbers.**"
   ]
  },
  {
   "cell_type": "code",
   "execution_count": null,
   "metadata": {
    "ExecuteTime": {
     "end_time": "2021-03-03T03:41:38.325371Z",
     "start_time": "2021-03-03T03:41:38.321598Z"
    }
   },
   "outputs": [],
   "source": [
    "median_test_data_odd = \n",
    "median_test_data_even ="
   ]
  },
  {
   "cell_type": "code",
   "execution_count": null,
   "metadata": {},
   "outputs": [],
   "source": [
    "# 💻 Test your calculate_median() function "
   ]
  },
  {
   "cell_type": "markdown",
   "metadata": {},
   "source": [
    "## Mode\n",
    "\n",
    "Lastly, let's calculate the mode of our data. As a reminder, the mode is value that appears most often in a data set."
   ]
  },
  {
   "cell_type": "markdown",
   "metadata": {},
   "source": [
    "<img src = \"https://mediadc.brightspotcdn.com/dims4/default/a12d362/2147483647/strip/true/crop/2400x1264+0+0/resize/2400x1264!/quality/90/?url=https%3A%2F%2Fmediadc.brightspotcdn.com%2F14%2F0d%2F29f5ea424f6fa447310a14d6362c%2F03-skinner-openbooks.jpg\" style=\"width:500px\">\n",
    "\n",
    "**Dictionary alert**"
   ]
  },
  {
   "cell_type": "markdown",
   "metadata": {},
   "source": [
    "💻 **Start by writing the helper function, `create_counts_dict()`:**\n",
    "\n",
    "Parameter: a list of values\n",
    "\n",
    "Return value: a dictionary contains each item of the list (as a key) and how often they appear (as the value)"
   ]
  },
  {
   "cell_type": "code",
   "execution_count": null,
   "metadata": {},
   "outputs": [],
   "source": [
    "# 💻 Write the create_counts_dict() function here\n"
   ]
  },
  {
   "cell_type": "markdown",
   "metadata": {},
   "source": [
    "✅ **Test: Use your `create_counts_dict()` function to convert `mode_test_data` from a list to a dictionary.** Does it create the dictionary you expected?"
   ]
  },
  {
   "cell_type": "markdown",
   "metadata": {},
   "source": [
    "💻 **Fill in `mode_test_data` each with a list of values.** \n",
    "\n",
    "*Note: the data type does not matter*\n",
    "\n",
    "> e.g. `[25,25,100,25,6,40]`\n",
    ">\n",
    "> e.g. `['dog','dog','cat','mouse','mouse','dog']`\n",
    ">\n",
    "> e.g. `[5,10,5,'dog','dog',29,5,5]`"
   ]
  },
  {
   "cell_type": "code",
   "execution_count": null,
   "metadata": {
    "ExecuteTime": {
     "end_time": "2021-03-03T03:41:38.325371Z",
     "start_time": "2021-03-03T03:41:38.321598Z"
    }
   },
   "outputs": [],
   "source": [
    "mode_test_data ="
   ]
  },
  {
   "cell_type": "code",
   "execution_count": null,
   "metadata": {},
   "outputs": [],
   "source": [
    "# 💻 Test your create_counts_dict() function here"
   ]
  },
  {
   "cell_type": "markdown",
   "metadata": {},
   "source": [
    "💻 **Now, write the main function, `calculate mode()`:**\n",
    "\n",
    "Parameter: a list of values\n",
    "\n",
    "Return value: the value that occured most often in the list. If there is more than one mode (or no mode), the first one to appear in the list is returned.\n",
    "\n",
    "*Be sure to use your `create_counts_dict()` to help write this function.*\n"
   ]
  },
  {
   "cell_type": "code",
   "execution_count": null,
   "metadata": {
    "ExecuteTime": {
     "end_time": "2021-03-03T03:39:18.256801Z",
     "start_time": "2021-03-03T03:39:18.252092Z"
    }
   },
   "outputs": [],
   "source": [
    "# 💻 Write the calculate_mode() function here\n"
   ]
  },
  {
   "cell_type": "markdown",
   "metadata": {},
   "source": [
    "✅ **Test: Use your `calculate_mode()` function to calculate the mode of the `mode_test_data` list.** Is it the same as your hand calculations?"
   ]
  },
  {
   "cell_type": "code",
   "execution_count": null,
   "metadata": {},
   "outputs": [],
   "source": [
    "# 💻 Test your calculate_mode() function "
   ]
  },
  {
   "cell_type": "markdown",
   "metadata": {},
   "source": [
    "## Deliverables"
   ]
  },
  {
   "cell_type": "markdown",
   "metadata": {},
   "source": [
    "\n",
    "⚡✨ **Great work translating your pseudocode to Python code! Check-in with a teacher before moving onto the extension.**\n",
    "\n",
    "**💻 Be sure to push your extension work to Github.** \n",
    "\n"
   ]
  },
  {
   "cell_type": "markdown",
   "metadata": {},
   "source": [
    "# Extension: Bigger Data\n",
    "Now that you've tested your code for generating summary statistics on some small datasets, lets try them on a larger dataset: pokemon statistics. You can view the dataset in `pokemon_dataset.csv`.\n",
    "\n",
    "To do this, we'll use a library called **[pandas](https://pandas.pydata.org/).**"
   ]
  },
  {
   "cell_type": "code",
   "execution_count": null,
   "metadata": {},
   "outputs": [],
   "source": [
    "import pandas as pd"
   ]
  },
  {
   "cell_type": "markdown",
   "metadata": {},
   "source": [
    "<img src=\"https://miro.medium.com/max/2550/1*6d5dw6dPhy4vBp2vRW6uzw.png\" width=\"500\" height=\"100\" />\n",
    "\n",
    "**What is pandas, and why are we importing it?**\n",
    "\n",
    "It's a python library that helps us organize and access our data set into an object called a dataframe, or df for short."
   ]
  },
  {
   "cell_type": "code",
   "execution_count": null,
   "metadata": {},
   "outputs": [],
   "source": [
    "df = pd.read_csv('pokemon_dataset.csv')\n",
    "df"
   ]
  },
  {
   "cell_type": "markdown",
   "metadata": {},
   "source": [
    "To make this data work with the functions we wrote for this lab, we'll change columns of this data into lists.\n",
    "\n",
    "Currently, `filter_data_list` stores a list of all the \"HP\" values. \n",
    "\n",
    "💻 **Change \"HP\" to a different column name.**\n",
    "\n"
   ]
  },
  {
   "cell_type": "code",
   "execution_count": null,
   "metadata": {},
   "outputs": [],
   "source": [
    "filtered_data_list = df[\"HP\"].dropna().tolist()\n",
    "filtered_data_list"
   ]
  },
  {
   "cell_type": "markdown",
   "metadata": {},
   "source": [
    "Now, you can use the `filtered_data_list` as a parameter for the statiscs functions you wrote.\n",
    "\n",
    "💻 **Try calculating the mean, median, and mode on the `filtered_data_list` below:**"
   ]
  },
  {
   "cell_type": "code",
   "execution_count": null,
   "metadata": {
    "scrolled": true
   },
   "outputs": [],
   "source": [
    "# 💻 Calculate the mean of filtered_data_list\n",
    "\n",
    "\n",
    "# 💻 Calculate the median of filtered_data_list\n",
    "\n",
    "\n",
    "# 💻 Calculate the mode of filtered_data_list\n"
   ]
  },
  {
   "cell_type": "markdown",
   "metadata": {},
   "source": [
    "## Explore what `pandas` can do! \n",
    "\n",
    "`pandas` is a super powerful data analytics tool. We'll be delving deeper into `pandas` in the next lab, but for the time being explore the [user guide](https://pandas.pydata.org/docs/user_guide/index.html) to see what's possible. The documentation is also available in [Chinese](http://www.pypandas.cn/).\n",
    "\n",
    "Some features to look into...\n",
    "- What is a `dataframe`?\n",
    "- How do you sort the `dataframe` on a particular row name? \n",
    "- How do you filter the `dataframe`? For example, how would you create a `dataframe` with only pokemon who's 'Attack' stat is over 100?"
   ]
  },
  {
   "cell_type": "code",
   "execution_count": null,
   "metadata": {},
   "outputs": [],
   "source": [
    "# 💻 Delve into pandas here \n",
    "# And, feel free to add more cells "
   ]
  },
  {
   "cell_type": "markdown",
   "metadata": {},
   "source": [
    "\n",
    "⚡✨\n",
    "\n",
    "**💻 Be sure to push your extension work to Github.** "
   ]
  }
 ],
 "metadata": {
  "kernelspec": {
   "display_name": "Python 3 (ipykernel)",
   "language": "python",
   "name": "python3"
  },
  "language_info": {
   "codemirror_mode": {
    "name": "ipython",
    "version": 3
   },
   "file_extension": ".py",
   "mimetype": "text/x-python",
   "name": "python",
   "nbconvert_exporter": "python",
   "pygments_lexer": "ipython3",
   "version": "3.9.7"
  },
  "toc": {
   "base_numbering": 1,
   "nav_menu": {},
   "number_sections": false,
   "sideBar": true,
   "skip_h1_title": false,
   "title_cell": "Table of Contents",
   "title_sidebar": "Contents",
   "toc_cell": false,
   "toc_position": {
    "height": "calc(100% - 180px)",
    "left": "10px",
    "top": "150px",
    "width": "165px"
   },
   "toc_section_display": true,
   "toc_window_display": true
  },
  "varInspector": {
   "cols": {
    "lenName": 16,
    "lenType": 16,
    "lenVar": 40
   },
   "kernels_config": {
    "python": {
     "delete_cmd_postfix": "",
     "delete_cmd_prefix": "del ",
     "library": "var_list.py",
     "varRefreshCmd": "print(var_dic_list())"
    },
    "r": {
     "delete_cmd_postfix": ") ",
     "delete_cmd_prefix": "rm(",
     "library": "var_list.r",
     "varRefreshCmd": "cat(var_dic_list()) "
    }
   },
   "types_to_exclude": [
    "module",
    "function",
    "builtin_function_or_method",
    "instance",
    "_Feature"
   ],
   "window_display": false
  }
 },
 "nbformat": 4,
 "nbformat_minor": 2
}
